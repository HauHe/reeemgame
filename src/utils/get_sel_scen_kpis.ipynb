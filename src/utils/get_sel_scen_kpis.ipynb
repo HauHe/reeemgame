{
 "cells": [
  {
   "cell_type": "code",
   "execution_count": 1,
   "metadata": {},
   "outputs": [],
   "source": [
    "import pandas as pd"
   ]
  },
  {
   "cell_type": "code",
   "execution_count": 2,
   "metadata": {},
   "outputs": [],
   "source": [
    "scenarios = ['T0E5C7B3', 'T0E21C7B3', 'T0E13C7B3','T0E13C7B0','T0E13C0B0']\n",
    "kpis = ['CO2Intensity','LCOE','DiscountedInvestmentPerCitizen']"
   ]
  },
  {
   "cell_type": "code",
   "execution_count": 3,
   "metadata": {},
   "outputs": [],
   "source": [
    "kpi_dic = {}\n",
    "kpi_sel_scen = {}"
   ]
  },
  {
   "cell_type": "code",
   "execution_count": 5,
   "metadata": {},
   "outputs": [],
   "source": [
    "for i in kpis:\n",
    "    kpi_sel_scen[i] = pd.DataFrame()\n",
    "    path = 'results/221026/%s.csv' % i\n",
    "    kpi_dic[i] =pd.read_csv(path)\n",
    "    for s in scenarios:\n",
    "        kpi_sel_scen[i][s] = kpi_dic[i].loc[:,s]\n",
    "    path_out = 'results/221026/%s_sel-scen.csv' % i\n",
    "    kpi_sel_scen[i].to_csv(path_out, index=False)"
   ]
  },
  {
   "cell_type": "code",
   "execution_count": null,
   "metadata": {},
   "outputs": [],
   "source": []
  },
  {
   "cell_type": "code",
   "execution_count": null,
   "metadata": {},
   "outputs": [],
   "source": []
  }
 ],
 "metadata": {
  "kernelspec": {
   "display_name": "Python 3.10.5 ('reeemgame')",
   "language": "python",
   "name": "python3"
  },
  "language_info": {
   "codemirror_mode": {
    "name": "ipython",
    "version": 3
   },
   "file_extension": ".py",
   "mimetype": "text/x-python",
   "name": "python",
   "nbconvert_exporter": "python",
   "pygments_lexer": "ipython3",
   "version": "3.10.5"
  },
  "orig_nbformat": 4,
  "vscode": {
   "interpreter": {
    "hash": "76d56952efd6e843598be98483e79f9133422b587ccbf4d0c2f519fc8f121861"
   }
  }
 },
 "nbformat": 4,
 "nbformat_minor": 2
}
